{
 "cells": [
  {
   "cell_type": "code",
   "execution_count": 23,
   "id": "4ff7d4fd",
   "metadata": {},
   "outputs": [],
   "source": [
    "a = torch.tensor([1,2,3,4,5,6,7,8,9,2,3,4,5,6,7,8,9])"
   ]
  },
  {
   "cell_type": "code",
   "execution_count": 25,
   "id": "aaaa6a13",
   "metadata": {},
   "outputs": [
    {
     "data": {
      "text/plain": [
       "tensor(9)"
      ]
     },
     "execution_count": 25,
     "metadata": {},
     "output_type": "execute_result"
    }
   ],
   "source": [
    "max(a)"
   ]
  },
  {
   "cell_type": "code",
   "execution_count": 47,
   "id": "271a64bc",
   "metadata": {},
   "outputs": [
    {
     "data": {
      "text/plain": [
       "tensor(True)"
      ]
     },
     "execution_count": 47,
     "metadata": {},
     "output_type": "execute_result"
    }
   ],
   "source": [
    "torch.tensor(1) == 1"
   ]
  },
  {
   "cell_type": "code",
   "execution_count": 24,
   "id": "de5417ee",
   "metadata": {},
   "outputs": [
    {
     "data": {
      "text/plain": [
       "8"
      ]
     },
     "execution_count": 24,
     "metadata": {},
     "output_type": "execute_result"
    }
   ],
   "source": [
    "import torch\n",
    "index = torch.argmax(a).item()\n",
    "index"
   ]
  },
  {
   "cell_type": "code",
   "execution_count": 40,
   "id": "843caf1a",
   "metadata": {},
   "outputs": [],
   "source": [
    "def objectWeight(totalObjects: int):\n",
    "    return 1-torch.exp(torch.tensor(-(totalObjects-1), dtype=torch.float32))"
   ]
  },
  {
   "cell_type": "code",
   "execution_count": 46,
   "id": "b63df936",
   "metadata": {},
   "outputs": [
    {
     "data": {
      "text/plain": [
       "tensor(0.9502)"
      ]
     },
     "execution_count": 46,
     "metadata": {},
     "output_type": "execute_result"
    }
   ],
   "source": [
    "object_weight = objectWeight(4)\n",
    "object_weight"
   ]
  },
  {
   "cell_type": "code",
   "execution_count": null,
   "id": "c1cb1524",
   "metadata": {},
   "outputs": [
    {
     "data": {
      "text/plain": [
       "[1, 7, 5]"
      ]
     },
     "execution_count": 18,
     "metadata": {},
     "output_type": "execute_result"
    }
   ],
   "source": [
    "b # 索引就是6*i"
   ]
  },
  {
   "cell_type": "code",
   "execution_count": 14,
   "id": "b3fc8b4e",
   "metadata": {},
   "outputs": [],
   "source": [
    "def frameExtract(frames: list, frameRate: int):# 每秒读取五分之一帧率大小的帧数\n",
    "    print(f\"视频帧率是{frameRate}fps,每秒钟按照相同间隔抽取{int(frameRate/5)}帧\")\n",
    "    frameExtracted = frames[::int(frameRate/5)]\n",
    "    print(f\"一共抽取了{len(frameExtracted)}帧\")\n",
    "    return frameExtracted"
   ]
  },
  {
   "cell_type": "code",
   "execution_count": 12,
   "id": "3e9cec40",
   "metadata": {},
   "outputs": [
    {
     "name": "stdout",
     "output_type": "stream",
     "text": [
      "读取到了441帧\n"
     ]
    }
   ],
   "source": [
    "import cv2 \n",
    "import numpy as np\n",
    "\n",
    "cap = cv2.VideoCapture(\"D:\\\\ultralytics\\\\YOLO+CLIP\\\\videos\\\\video03\\\\video03-720p-16s.mp4\")\n",
    "if not cap.isOpened():\n",
    "    print(\"Error: Could not open video.\")\n",
    "\n",
    "fps = cap.get(cv2.CAP_PROP_FPS) # 获取视频的帧率\n",
    "frames = []\n",
    "num = 0\n",
    "while True:\n",
    "    num += 1\n",
    "    ret, frame = cap.read()\n",
    "    if not ret:\n",
    "        break\n",
    "    # OpenCV默认使用BGR格式，转换为RGB\n",
    "    frame_rgb = cv2.cvtColor(frame, cv2.COLOR_BGR2RGB)\n",
    "    frames.append(frame_rgb)\n",
    "cap.release() # 释放内存资源\n",
    "print(f\"读取到了{len(frames)}帧\")"
   ]
  },
  {
   "cell_type": "code",
   "execution_count": 13,
   "id": "f6a306a3",
   "metadata": {},
   "outputs": [
    {
     "name": "stdout",
     "output_type": "stream",
     "text": [
      "25.0\n"
     ]
    }
   ],
   "source": [
    "print(fps)"
   ]
  },
  {
   "cell_type": "code",
   "execution_count": 15,
   "id": "0c984c37",
   "metadata": {},
   "outputs": [
    {
     "name": "stdout",
     "output_type": "stream",
     "text": [
      "视频帧率是25.0fps,每秒钟按照相同间隔抽取5帧\n",
      "一共抽取了89帧\n"
     ]
    }
   ],
   "source": [
    "frameExtracted = frameExtract(frames, fps)"
   ]
  }
 ],
 "metadata": {
  "kernelspec": {
   "display_name": "VideoDetect",
   "language": "python",
   "name": "python3"
  },
  "language_info": {
   "codemirror_mode": {
    "name": "ipython",
    "version": 3
   },
   "file_extension": ".py",
   "mimetype": "text/x-python",
   "name": "python",
   "nbconvert_exporter": "python",
   "pygments_lexer": "ipython3",
   "version": "3.11.13"
  }
 },
 "nbformat": 4,
 "nbformat_minor": 5
}
